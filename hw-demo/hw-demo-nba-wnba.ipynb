{
 "cells": [
  {
   "cell_type": "code",
   "execution_count": null,
   "id": "40af8d91",
   "metadata": {
    "deletable": false,
    "editable": false
   },
   "outputs": [],
   "source": [
    "# Initialize Otter\n",
    "import otter\n",
    "grader = otter.Notebook(\"hw-demo-nba-wnba.ipynb\")"
   ]
  },
  {
   "cell_type": "code",
   "execution_count": null,
   "id": "da1c0f9b",
   "metadata": {},
   "outputs": [],
   "source": [
    "from datascience import *"
   ]
  },
  {
   "cell_type": "markdown",
   "id": "0f640aa7",
   "metadata": {},
   "source": [
    "## HW Demo: WNBA and NBA Player Data: Exploring Datasets"
   ]
  },
  {
   "cell_type": "markdown",
   "id": "01ba83e9",
   "metadata": {},
   "source": [
    "<div class=\"alert alert-block alert-info\">\n",
    "\n",
    "The first step in creating an autograded assignment is to include the \"Assignment Config\" above.\n",
    "\n",
    "The slides associated with the presentation provide a link to more details and options.\n",
    "\n",
    "In order to add a question, we need to include the following:\n",
    "- MarkDown Cell: Context and Instructions\n",
    "- Raw Cell: Otter-Grader Question Fig\n",
    "- Code Cell: Code to be completes and the SOLUTION marked with a comment\n",
    "- Raw and Code Cells: Defining the tests to be run\n",
    "\n",
    "\n",
    "</div>"
   ]
  },
  {
   "cell_type": "code",
   "execution_count": null,
   "id": "76e0cf6f",
   "metadata": {},
   "outputs": [],
   "source": [
    "nba_player_data_2024 = Table.read_table(\"player_data_nba_2024.csv\")\n",
    "wnba_player_data_2024 = Table.read_table(\"https://github.com/ucb-ds/demo-datasets/raw/main/wnba_data.csv\")"
   ]
  },
  {
   "cell_type": "markdown",
   "id": "21a42dbb",
   "metadata": {},
   "source": [
    "<div class=\"alert alert-block alert-success\">\n",
    "\n",
    "**Question 1.1 (2 points)** \n",
    "\n",
    "We are loading the WNBA and NBA player datasets in the previous cell.\n",
    "\n",
    "- Compute and display the difference in the number of rows between the datasets\n",
    "\n",
    "</div>\n"
   ]
  },
  {
   "cell_type": "code",
   "execution_count": null,
   "id": "cec64446",
   "metadata": {
    "tags": []
   },
   "outputs": [],
   "source": [
    "player_diff = ...\n",
    "player_diff"
   ]
  },
  {
   "cell_type": "markdown",
   "id": "7039f3b0",
   "metadata": {
    "deletable": false,
    "editable": false
   },
   "source": [
    "## Submission\n",
    "\n",
    "Make sure you have run all cells in your notebook in order before running the cell below, so that all images/graphs appear in the output. The cell below will generate a zip file for you to submit. **Please save before exporting!**"
   ]
  },
  {
   "cell_type": "code",
   "execution_count": null,
   "id": "355220ab",
   "metadata": {
    "deletable": false,
    "editable": false
   },
   "outputs": [],
   "source": [
    "# Save your notebook first, then run this cell to export your submission.\n",
    "grader.export(pdf=False, run_tests=True)"
   ]
  },
  {
   "cell_type": "markdown",
   "id": "dbc7be2d",
   "metadata": {},
   "source": [
    " "
   ]
  }
 ],
 "metadata": {
  "kernelspec": {
   "display_name": "Python 3 (ipykernel)",
   "language": "python",
   "name": "python3"
  },
  "language_info": {
   "codemirror_mode": {
    "name": "ipython",
    "version": 3
   },
   "file_extension": ".py",
   "mimetype": "text/x-python",
   "name": "python",
   "nbconvert_exporter": "python",
   "pygments_lexer": "ipython3",
   "version": "3.11.9"
  },
  "otter": {
   "OK_FORMAT": true,
   "tests": {
    "q1_1": {
     "name": "q1_1",
     "points": [
      0,
      0
     ],
     "suites": [
      {
       "cases": [
        {
         "code": ">>> 400 < player_diff < 500\nTrue",
         "hidden": false,
         "locked": false
        },
        {
         "code": ">>> player_diff > 0\nTrue",
         "hidden": false,
         "locked": false
        }
       ],
       "scored": true,
       "setup": "",
       "teardown": "",
       "type": "doctest"
      }
     ]
    }
   }
  }
 },
 "nbformat": 4,
 "nbformat_minor": 5
}
